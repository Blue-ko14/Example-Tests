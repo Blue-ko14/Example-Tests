{
 "cells": [
  {
   "cell_type": "markdown",
   "metadata": {},
   "source": [
    "#### random sample of  silver records"
   ]
  },
  {
   "cell_type": "code",
   "execution_count": 1,
   "metadata": {
    "collapsed": true
   },
   "outputs": [],
   "source": [
    "from zoomtools import solr, rdb, transform\n",
    "\n",
    "%matplotlib inline"
   ]
  },
  {
   "cell_type": "code",
   "execution_count": 4,
   "metadata": {
    "collapsed": false
   },
   "outputs": [
    {
     "name": "stdout",
     "output_type": "stream",
     "text": [
      "http://solarstage04.xoominfo.com:8983/solr/zoomCollection\n"
     ]
    }
   ],
   "source": [
    "ss4 = solr.conn('solarstage04')"
   ]
  },
  {
   "cell_type": "code",
   "execution_count": 5,
   "metadata": {
    "collapsed": false
   },
   "outputs": [
    {
     "data": {
      "text/html": [
       "<div>\n",
       "<table border=\"1\" class=\"dataframe\">\n",
       "  <thead>\n",
       "    <tr style=\"text-align: right;\">\n",
       "      <th></th>\n",
       "      <th>id</th>\n",
       "      <th>d_email_address</th>\n",
       "    </tr>\n",
       "  </thead>\n",
       "  <tbody>\n",
       "    <tr>\n",
       "      <th>0</th>\n",
       "      <td>-1803342057</td>\n",
       "      <td>josh@greenbaydistillery.com</td>\n",
       "    </tr>\n",
       "    <tr>\n",
       "      <th>1</th>\n",
       "      <td>-2058661621</td>\n",
       "      <td>dgbtech@waikato.ac.nz</td>\n",
       "    </tr>\n",
       "  </tbody>\n",
       "</table>\n",
       "</div>"
      ],
      "text/plain": [
       "           id              d_email_address\n",
       "0 -1803342057  josh@greenbaydistillery.com\n",
       "1 -2058661621        dgbtech@waikato.ac.nz"
      ]
     },
     "execution_count": 5,
     "metadata": {},
     "output_type": "execute_result"
    }
   ],
   "source": [
    "query_args = {'fl': 'id,d_email_address',\n",
    "              'sort': 'random_1234 desc',\n",
    "              'rows': 1000}\n",
    "\n",
    "sample = solr.query(ss4, 'has_email:T (has_title:F OR has_company_id:F)', query_args)\n",
    "sample.head(2)"
   ]
  },
  {
   "cell_type": "markdown",
   "metadata": {},
   "source": [
    "#### collecting validation data from the permission pass db"
   ]
  },
  {
   "cell_type": "code",
   "execution_count": 6,
   "metadata": {
    "collapsed": false
   },
   "outputs": [
    {
     "name": "stdout",
     "output_type": "stream",
     "text": [
      "Password for user sa:\n",
      "········\n",
      "Connected to permission_pass_db on Freshdb03.\n"
     ]
    }
   ],
   "source": [
    "ppdb = rdb.conn(driver=rdb.drivers()[4],\n",
    "                server='Freshdb03',\n",
    "                database='permission_pass_db',\n",
    "                uid='sa')"
   ]
  },
  {
   "cell_type": "code",
   "execution_count": 7,
   "metadata": {
    "collapsed": false
   },
   "outputs": [
    {
     "data": {
      "text/html": [
       "<div>\n",
       "<table border=\"1\" class=\"dataframe\">\n",
       "  <thead>\n",
       "    <tr style=\"text-align: right;\">\n",
       "      <th></th>\n",
       "      <th>email</th>\n",
       "      <th>pp_status_code</th>\n",
       "      <th>date_sent_to_vendor</th>\n",
       "      <th>date_processed</th>\n",
       "      <th>reference_id</th>\n",
       "      <th>date_validated</th>\n",
       "      <th>date_permission_passed</th>\n",
       "      <th>date_added</th>\n",
       "    </tr>\n",
       "  </thead>\n",
       "  <tbody>\n",
       "    <tr>\n",
       "      <th>0</th>\n",
       "      <td>200650172@student.qu.edu.qa</td>\n",
       "      <td>4</td>\n",
       "      <td>2016-06-11 09:00:00.143</td>\n",
       "      <td>2016-06-26 04:33:42.380</td>\n",
       "      <td>376008206</td>\n",
       "      <td>2016-06-12 00:00:00</td>\n",
       "      <td>2016-06-12</td>\n",
       "      <td>2016-06-04 17:39:59.613</td>\n",
       "    </tr>\n",
       "    <tr>\n",
       "      <th>1</th>\n",
       "      <td>43884@ngrid.sa</td>\n",
       "      <td>4</td>\n",
       "      <td>2015-11-07 09:00:00.107</td>\n",
       "      <td>2015-11-24 01:30:01.013</td>\n",
       "      <td>308924679</td>\n",
       "      <td>2016-03-17 13:54:04</td>\n",
       "      <td>2015-11-11</td>\n",
       "      <td>2015-10-31 03:23:49.727</td>\n",
       "    </tr>\n",
       "  </tbody>\n",
       "</table>\n",
       "</div>"
      ],
      "text/plain": [
       "                         email  pp_status_code     date_sent_to_vendor  \\\n",
       "0  200650172@student.qu.edu.qa               4 2016-06-11 09:00:00.143   \n",
       "1               43884@ngrid.sa               4 2015-11-07 09:00:00.107   \n",
       "\n",
       "           date_processed  reference_id      date_validated  \\\n",
       "0 2016-06-26 04:33:42.380     376008206 2016-06-12 00:00:00   \n",
       "1 2015-11-24 01:30:01.013     308924679 2016-03-17 13:54:04   \n",
       "\n",
       "  date_permission_passed              date_added  \n",
       "0             2016-06-12 2016-06-04 17:39:59.613  \n",
       "1             2015-11-11 2015-10-31 03:23:49.727  "
      ]
     },
     "execution_count": 7,
     "metadata": {},
     "output_type": "execute_result"
    }
   ],
   "source": [
    "email_string = transform.emails_to_sql(sample['d_email_address'])\n",
    "query = \"\"\" select *\n",
    "            from emails\n",
    "            where email in ({})\n",
    "        \"\"\".format(email_string)\n",
    "\n",
    "validation = rdb.query(ppdb, query)\n",
    "validation.head(2)"
   ]
  },
  {
   "cell_type": "markdown",
   "metadata": {},
   "source": [
    "#### visualizing distribution of date_validated dates"
   ]
  },
  {
   "cell_type": "code",
   "execution_count": 6,
   "metadata": {
    "collapsed": false,
    "scrolled": false
   },
   "outputs": [
    {
     "data": {
      "text/plain": [
       "<matplotlib.axes._subplots.AxesSubplot at 0x187b4be1160>"
      ]
     },
     "execution_count": 6,
     "metadata": {},
     "output_type": "execute_result"
    },
    {
     "data": {
      "image/png": "[encoded data removed]",
      "text/plain": [
       "<matplotlib.figure.Figure at 0x187b4be1128>"
      ]
     },
     "metadata": {},
     "output_type": "display_data"
    }
   ],
   "source": [
    "validation.groupby((validation.date_validated.dt.year, \n",
    "                    validation.date_validated.dt.month)).count().plot(kind=\"bar\", \n",
    "                                                                      legend=False,\n",
    "                                                                      rot=45,\n",
    "                                                                      figsize=(12, 8))"
   ]
  },
  {
   "cell_type": "markdown",
   "metadata": {},
   "source": [
    "#### sadness"
   ]
  },
  {
   "cell_type": "code",
   "execution_count": 7,
   "metadata": {
    "collapsed": false
   },
   "outputs": [
    {
     "data": {
      "text/plain": [
       "4     958\n",
       "11     40\n",
       "Name: pp_status_code, dtype: int64"
      ]
     },
     "execution_count": 7,
     "metadata": {},
     "output_type": "execute_result"
    }
   ],
   "source": [
    "validation['pp_status_code'].value_counts()"
   ]
  },
  {
   "cell_type": "code",
   "execution_count": 8,
   "metadata": {
    "collapsed": false
   },
   "outputs": [
    {
     "data": {
      "text/plain": [
       "(819, 8)"
      ]
     },
     "execution_count": 8,
     "metadata": {},
     "output_type": "execute_result"
    }
   ],
   "source": [
    "validation[validation['date_validated'] < '2016-05'].shape"
   ]
  }
 ],
 "metadata": {
  "kernelspec": {
   "display_name": "Python 3",
   "language": "python",
   "name": "python3"
  },
  "language_info": {
   "codemirror_mode": {
    "name": "ipython",
    "version": 3
   },
   "file_extension": ".py",
   "mimetype": "text/x-python",
   "name": "python",
   "nbconvert_exporter": "python",
   "pygments_lexer": "ipython3",
   "version": "3.5.2"
  }
 },
 "nbformat": 4,
 "nbformat_minor": 0
}
